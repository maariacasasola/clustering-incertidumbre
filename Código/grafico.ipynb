{
 "cells": [
  {
   "cell_type": "code",
   "execution_count": 3,
   "metadata": {},
   "outputs": [],
   "source": [
    "import pandas\n",
    "import numpy\n",
    "import math\n",
    "import matplotlib.pyplot as plt\n",
    "%run Punto.ipynb\n",
    "%run Circunferencia.ipynb\n",
    "%matplotlib inline"
   ]
  },
  {
   "cell_type": "markdown",
   "metadata": {},
   "source": [
    "## Clase de métodos para la representación del resultado "
   ]
  },
  {
   "cell_type": "code",
   "execution_count": 9,
   "metadata": {},
   "outputs": [],
   "source": [
    "def abscisas(puntos):\n",
    "    lista = []\n",
    "    for p in puntos:\n",
    "        lista.append(p.x)\n",
    "    return lista"
   ]
  },
  {
   "cell_type": "code",
   "execution_count": 10,
   "metadata": {},
   "outputs": [],
   "source": [
    "def ordenadas(puntos):\n",
    "    lista = []\n",
    "    for p in puntos:\n",
    "        lista.append(p.y)\n",
    "    return lista"
   ]
  },
  {
   "cell_type": "code",
   "execution_count": 2,
   "metadata": {},
   "outputs": [],
   "source": [
    "def color():\n",
    "    colors = \"bgrcmyp\"\n",
    "    color_index = numpy.random.randint(0,6)\n",
    "    c=colors[color_index]\n",
    "    return c"
   ]
  },
  {
   "cell_type": "markdown",
   "metadata": {},
   "source": [
    "##### Devuleve una gráfica con los clústeres diferenciados por colores"
   ]
  },
  {
   "cell_type": "code",
   "execution_count": 3,
   "metadata": {},
   "outputs": [],
   "source": [
    "def generar_grafico(puntos,cls):\n",
    "    xs = abscisas(puntos)\n",
    "    ys = ordenadas(puntos)\n",
    "    xmx = max(xs)\n",
    "    xmn = min(xs)\n",
    "    ymx = max(ys)\n",
    "    ymn = min(ys)\n",
    "    ax = plt.gca()\n",
    "    ax.set_xlim((xmn-1, xmx+1))\n",
    "    ax.set_ylim((ymn-1, ymx+1))\n",
    "    \n",
    "    for c in cls:\n",
    "        cx = abscisas(c.puntos)\n",
    "        cy = ordenadas(c.puntos)\n",
    "        co = color()\n",
    "        circle = plt.Circle((c.circunferencia.centro.x, c.circunferencia.centro.y), c.circunferencia.radio, color=co,\n",
    "                            fill=False)\n",
    "        ax.add_artist(circle)\n",
    "        ax.scatter(cx, cy, color=co)"
   ]
  }
 ],
 "metadata": {
  "kernelspec": {
   "display_name": "Python 3",
   "language": "python",
   "name": "python3"
  },
  "language_info": {
   "codemirror_mode": {
    "name": "ipython",
    "version": 3
   },
   "file_extension": ".py",
   "mimetype": "text/x-python",
   "name": "python",
   "nbconvert_exporter": "python",
   "pygments_lexer": "ipython3",
   "version": "3.7.6"
  }
 },
 "nbformat": 4,
 "nbformat_minor": 4
}
