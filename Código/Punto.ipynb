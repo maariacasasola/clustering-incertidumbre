{
 "cells": [
  {
   "cell_type": "markdown",
   "metadata": {},
   "source": [
    "# Clase Punto"
   ]
  },
  {
   "cell_type": "code",
   "execution_count": 48,
   "metadata": {},
   "outputs": [],
   "source": [
    "import math\n",
    "\n",
    "class Punto(object):\n",
    "    \n",
    "    next_id = 0\n",
    "    \n",
    "    def __init__(self,x,y):\n",
    "        self.x=x\n",
    "        self.y=y\n",
    "        self.i = 0\n",
    "        self.id = Punto.next_id\n",
    "        Punto.next_id += 1\n",
    "       \n",
    "    def __repr__(self):\n",
    "        return \"[\"+str(self.x)+\", \"+str(self.y)+\"]\"\n",
    "    \n",
    "    def __gt__(self, punto):\n",
    "        return self.id > punto.id\n",
    "    \n",
    "    @property\n",
    "    def i(self):\n",
    "        return self.__i\n",
    "    \n",
    "    @i.setter\n",
    "    def i(self,otroi):\n",
    "        self.__i=otroi\n",
    "    \n",
    "    @property\n",
    "    def x(self):\n",
    "        return self.__x\n",
    "    \n",
    "    @x.setter\n",
    "    def x(self,otrox):\n",
    "        self.__x=otrox\n",
    "        \n",
    "    @property\n",
    "    def y(self):\n",
    "        return self.__y\n",
    "    \n",
    "    @y.setter\n",
    "    def y(self,otroy):\n",
    "        self.__y=otroy\n",
    "        \n",
    "    def equals(self, punto):\n",
    "        return self.x == punto.x and self.y == punto.y\n",
    "        \n",
    "    def distancia(self, otro):\n",
    "        dx = self.__x - otro.__x\n",
    "        dy = self.__y - otro.__y\n",
    "        return math.sqrt((dx*dx + dy*dy))"
   ]
  }
 ],
 "metadata": {
  "kernelspec": {
   "display_name": "Python 3",
   "language": "python",
   "name": "python3"
  },
  "language_info": {
   "codemirror_mode": {
    "name": "ipython",
    "version": 3
   },
   "file_extension": ".py",
   "mimetype": "text/x-python",
   "name": "python",
   "nbconvert_exporter": "python",
   "pygments_lexer": "ipython3",
   "version": "3.7.6"
  }
 },
 "nbformat": 4,
 "nbformat_minor": 4
}
