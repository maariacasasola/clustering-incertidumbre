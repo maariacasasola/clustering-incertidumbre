{
 "cells": [
  {
   "cell_type": "code",
   "execution_count": 2,
   "metadata": {},
   "outputs": [],
   "source": [
    "import pandas\n",
    "import numpy\n",
    "import math\n",
    "%run Punto.ipynb\n",
    "%run Circunferencia.ipynb\n",
    "%run grafico.ipynb\n",
    "%run grado_pertenencia.ipynb"
   ]
  },
  {
   "cell_type": "markdown",
   "metadata": {},
   "source": [
    "# CLASE DE MÉTODOS PARA EL ALGORITMO K-MEDIAS"
   ]
  },
  {
   "cell_type": "markdown",
   "metadata": {},
   "source": [
    "### Método de inicialización"
   ]
  },
  {
   "cell_type": "markdown",
   "metadata": {},
   "source": [
    "##### Inicializa las circunferencias iniciales, posicionándolas cerca del punto con el que tienen mayor preferencia."
   ]
  },
  {
   "cell_type": "code",
   "execution_count": null,
   "metadata": {},
   "outputs": [],
   "source": [
    "def inicializar_circunferencias(mapa, cs):\n",
    "    circunferencias = []\n",
    "    l = {}\n",
    "        \n",
    "    for i in range(0, len(cs)):\n",
    "        mx = 0\n",
    "        for p, lp in mapa.items():\n",
    "            if lp[0] == i and lp[1] > mx:\n",
    "                mx = lp[1]\n",
    "                l[i] = p\n",
    "    \n",
    "    for i in range(0, len(l)):\n",
    "        if i in l.keys():\n",
    "            cs[i].centro = Punto(l.get(i).x - 1., l.get(i).y - 1.)\n",
    "        \n",
    "    circunferencias = cs[:]\n",
    "    return circunferencias"
   ]
  },
  {
   "cell_type": "markdown",
   "metadata": {},
   "source": [
    "### Métodos de clusters"
   ]
  },
  {
   "cell_type": "markdown",
   "metadata": {},
   "source": [
    "##### Crea los clústeres en cada iteración, la lista de circunferencias se actualiza en cada iteración y por tanto los clústeres también"
   ]
  },
  {
   "cell_type": "code",
   "execution_count": 2,
   "metadata": {},
   "outputs": [],
   "source": [
    "def crear_clusters(mapa,circunferencias):\n",
    "    \n",
    "    puntos = list(mapa.keys())\n",
    "    listas_grados_indice = list(mapa.values())\n",
    "    lista_clusters = []\n",
    "    \n",
    "    for c in circunferencias:\n",
    "        cl=Cluster(c,[])\n",
    "        lista_clusters.append(cl)\n",
    "        \n",
    "    lista_clusters = obtener_maxima_pertenencia(mapa, lista_clusters)\n",
    "    \n",
    "    return lista_clusters  ## Devuelve los clusters iniciales"
   ]
  },
  {
   "cell_type": "markdown",
   "metadata": {},
   "source": [
    "##### Estos métodos actualizan un cluster determinado, en cada iteración actualizan la lista de clústeres clúster a clúster para calcular las nuevas circunferencias"
   ]
  },
  {
   "cell_type": "code",
   "execution_count": 4,
   "metadata": {},
   "outputs": [],
   "source": [
    "def actualizar_radio(cluster):\n",
    "    N = len(cluster.puntos)\n",
    "    dist = 0\n",
    "    if cluster.circunferencia.radio == 0 or N == 0 or N == 1:\n",
    "        return numpy.random.randint(1,3)\n",
    "    else:\n",
    "        for p in cluster.puntos:\n",
    "            dist += cluster.circunferencia.centro.distancia(p)\n",
    "        nuevoRadio = round(dist/N, 2)\n",
    "        return nuevoRadio"
   ]
  },
  {
   "cell_type": "code",
   "execution_count": 5,
   "metadata": {},
   "outputs": [],
   "source": [
    "def actualizar_centro(cluster):\n",
    "    N = len(cluster.puntos)\n",
    "    x=0\n",
    "    y=0\n",
    "    if N == 0:\n",
    "        x = numpy.random.randint(1,10)\n",
    "        y = numpy.random.randint(1,10)\n",
    "        centro=Punto(x,y)\n",
    "        return centro\n",
    "    else:\n",
    "        for p in cluster.puntos:\n",
    "            x += p.x\n",
    "            y += p.y\n",
    "            nuevoCentro = Punto(round(x/N, 1), round(y/N, 1))\n",
    "        return nuevoCentro"
   ]
  },
  {
   "cell_type": "code",
   "execution_count": 17,
   "metadata": {},
   "outputs": [],
   "source": [
    "def actualizar_cluster(cluster, circunferencias, idC, mapa):\n",
    "    nuevoCentro = actualizar_centro(cluster)\n",
    "    puntos = list(mapa.keys())\n",
    "    \n",
    "    C = Circunferencia(nuevoCentro,cluster.circunferencia.radio) ##Actualizamos el centro y sin actualizar el radio volvemos \n",
    "    circunferencias[idC] = C                                     ##a calcular el grado de pertenencia con todos los puntos\n",
    "    \n",
    "    nuevo_mapa = grado_pertenencia(puntos, circunferencias)      \n",
    "    \n",
    "    cl = crear_clusters(nuevo_mapa, circunferencias)\n",
    "    \n",
    "    nuevoRadio = actualizar_radio(cl[idC])\n",
    "    \n",
    "    resC = Circunferencia(nuevoCentro,nuevoRadio)\n",
    "    resCl = Cluster(resC,cl[idC].puntos)\n",
    "    \n",
    "    circunferencias[idC] = resC\n",
    "    \n",
    "    return resCl"
   ]
  },
  {
   "cell_type": "markdown",
   "metadata": {},
   "source": [
    "### Método para el criterio de parada"
   ]
  },
  {
   "cell_type": "markdown",
   "metadata": {},
   "source": [
    "##### Comprueba antes de seguir con la siguiente iteración, si el algoritmo ha encontrado un resultado válido para devolver"
   ]
  },
  {
   "cell_type": "code",
   "execution_count": 18,
   "metadata": {},
   "outputs": [],
   "source": [
    "def circunferencias_iguales(cls,cls2,mapa, umbral):\n",
    "    b = True\n",
    "    \n",
    "    for i in range(0,len(cls)):\n",
    "        if cls2[i].puntos == [] or len(cls2[i].puntos) == 1:\n",
    "            b = False\n",
    "            break\n",
    "        if not cls2[i].circunferencia.equals(cls[i].circunferencia):\n",
    "            b = False\n",
    "            break\n",
    "        else:\n",
    "            for p in range(0,len(cls2[i].puntos)):\n",
    "                if not todos_los_grados_maximizados(cls2[i], mapa, i, umbral):\n",
    "                    b = False\n",
    "                    break\n",
    "    return b"
   ]
  },
  {
   "cell_type": "markdown",
   "metadata": {},
   "source": [
    "## Algoritmo k-medias"
   ]
  },
  {
   "cell_type": "code",
   "execution_count": null,
   "metadata": {},
   "outputs": [],
   "source": [
    "def k_medias(puntos,circunferencias, it, umbral):\n",
    "    mapa=grado_pertenencia(puntos,circunferencias)\n",
    "    circunferencias = inicializar_circunferencias(mapa, circunferencias)\n",
    "    i = 0\n",
    "    while i < it:\n",
    "        mapa=grado_pertenencia(puntos,circunferencias)\n",
    "        cls = crear_clusters(mapa,circunferencias)\n",
    "        clustersActualizados = []\n",
    "        circunferenciasActualizadas = []\n",
    "        sorted(cls)\n",
    "        for cl in cls:\n",
    "            clId = cls.index(cl)\n",
    "            nuevoCluster = actualizar_cluster(cl, circunferencias, clId, mapa)\n",
    "            clustersActualizados.append(nuevoCluster)\n",
    "            circunferenciasActualizadas.append(nuevoCluster.circunferencia)\n",
    "        nuevo_mapa = grado_pertenencia(puntos,circunferenciasActualizadas)\n",
    "        mapa = nuevo_mapa\n",
    "        if circunferencias_iguales(cls,clustersActualizados,mapa, umbral):\n",
    "            break;\n",
    "        cls = clustersActualizados[:]\n",
    "        sorted(cls)\n",
    "        circunferencias = circunferenciasActualizadas[:]\n",
    "        i += 1\n",
    "    return cls"
   ]
  }
 ],
 "metadata": {
  "kernelspec": {
   "display_name": "Python 3",
   "language": "python",
   "name": "python3"
  },
  "language_info": {
   "codemirror_mode": {
    "name": "ipython",
    "version": 3
   },
   "file_extension": ".py",
   "mimetype": "text/x-python",
   "name": "python",
   "nbconvert_exporter": "python",
   "pygments_lexer": "ipython3",
   "version": "3.7.6"
  }
 },
 "nbformat": 4,
 "nbformat_minor": 4
}
