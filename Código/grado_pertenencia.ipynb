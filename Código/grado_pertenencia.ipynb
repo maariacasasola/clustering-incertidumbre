{
 "cells": [
  {
   "cell_type": "code",
   "execution_count": 1,
   "metadata": {},
   "outputs": [],
   "source": [
    "import math\n",
    "%run Punto.ipynb\n",
    "%run Circunferencia.ipynb"
   ]
  },
  {
   "cell_type": "markdown",
   "metadata": {},
   "source": [
    "## Clase de métodos relacionados con la pertenencia"
   ]
  },
  {
   "cell_type": "markdown",
   "metadata": {},
   "source": [
    "### Valores normalizados"
   ]
  },
  {
   "cell_type": "markdown",
   "metadata": {},
   "source": [
    "##### Se normalizan los valores de los grados de pertenencia con un reparto inverso. Estos valores se calculan en función de la distancia de un punto a una circunferencia [ d(punto, circunferencia) = d(punto, centro) - radio ]"
   ]
  },
  {
   "cell_type": "code",
   "execution_count": 2,
   "metadata": {},
   "outputs": [],
   "source": [
    "def lista_ceros(n):\n",
    "    listofzeros = [0] * n\n",
    "    return listofzeros"
   ]
  },
  {
   "cell_type": "code",
   "execution_count": 6,
   "metadata": {},
   "outputs": [],
   "source": [
    "def distancia_inversa(punto, circunferencias):\n",
    "    res = []\n",
    "    dist = []\n",
    "    for c in circunferencias:\n",
    "        d = abs(punto.distancia(c.centro) - c.radio)\n",
    "        dist.append(d)\n",
    "    for i in range(0,len(dist)):\n",
    "        if(dist[i] == 0):\n",
    "            res = lista_ceros(len(dist))\n",
    "            res[i] = 1\n",
    "            return res\n",
    "        else:\n",
    "            di = 1 / dist[i]\n",
    "            dist[i] = di\n",
    "    return dist"
   ]
  },
  {
   "cell_type": "code",
   "execution_count": 7,
   "metadata": {},
   "outputs": [],
   "source": [
    "def normalizar_valores(distancias):\n",
    "    normalizados = []\n",
    "    suma = sum(distancias)\n",
    "    if(suma == 1):\n",
    "        return distancias\n",
    "    else:\n",
    "        for d in distancias:\n",
    "            if not d == 0:\n",
    "                n = round(1/(suma*1/d), 3)\n",
    "                normalizados.append(n)\n",
    "            else:\n",
    "                normalizados = distancias[:]\n",
    "        return normalizados"
   ]
  },
  {
   "cell_type": "markdown",
   "metadata": {},
   "source": [
    "### Grado de pertenencia"
   ]
  },
  {
   "cell_type": "markdown",
   "metadata": {},
   "source": [
    "##### Devuelve un diccionario de cada punto asociado a una lista con el indice de la circunferencia con la que tiene mayor grado de pertenencia [0] y  su grado de pertenencia con esa circunferencia [1]"
   ]
  },
  {
   "cell_type": "code",
   "execution_count": 5,
   "metadata": {},
   "outputs": [],
   "source": [
    "def grado_pertenencia(puntos,circunferencias):\n",
    "    res = {}\n",
    "    for p in puntos:\n",
    "        lista = []\n",
    "        d = distancia_inversa(p,circunferencias)\n",
    "        n = normalizar_valores(d)\n",
    "        lista.append(n.index(max(n)))\n",
    "        lista.append(max(n))\n",
    "        res[p] = lista\n",
    "            \n",
    "    return res"
   ]
  },
  {
   "cell_type": "markdown",
   "metadata": {},
   "source": [
    "### Máxima pertenencia "
   ]
  },
  {
   "cell_type": "markdown",
   "metadata": {},
   "source": [
    "#### Devuelve una lista de clusters con los puntos que tienen mayor pertenencia añadidos a cada uno"
   ]
  },
  {
   "cell_type": "code",
   "execution_count": null,
   "metadata": {},
   "outputs": [],
   "source": [
    "def obtener_maxima_pertenencia(mapa, lc):\n",
    "    pMax = []\n",
    "    puntos = list(mapa.keys())\n",
    "    listas_grados_indice = list(mapa.values())\n",
    "    \n",
    "    for i in range(0, len(lc)):\n",
    "        j = 0\n",
    "        for p,lp in mapa.items():\n",
    "            if lp[0] == i:\n",
    "                lc[i].puntos.append(p)\n",
    "    \n",
    "    pMax = lc[:]\n",
    "\n",
    "    return pMax"
   ]
  },
  {
   "cell_type": "markdown",
   "metadata": {},
   "source": [
    "### Maximización de grados"
   ]
  },
  {
   "cell_type": "markdown",
   "metadata": {},
   "source": [
    "#### Comprueba que todos los grados de pertenencia del cluster superen una cota que indica el fin del algoritmo cuando se maximiza la pertenencia"
   ]
  },
  {
   "cell_type": "code",
   "execution_count": null,
   "metadata": {},
   "outputs": [],
   "source": [
    "def todos_los_grados_maximizados(cluster, mapa_grados, i, umbral):\n",
    "    puntos = cluster.puntos\n",
    "    res = True\n",
    "    \n",
    "    for punto,grados in mapa_grados.items():\n",
    "        for p in puntos:\n",
    "            if punto.equals(p):\n",
    "                if grados[0] == i and grados[1] < umbral:\n",
    "                    res = False\n",
    "                    break\n",
    "    \n",
    "    return res"
   ]
  }
 ],
 "metadata": {
  "kernelspec": {
   "display_name": "Python 3",
   "language": "python",
   "name": "python3"
  },
  "language_info": {
   "codemirror_mode": {
    "name": "ipython",
    "version": 3
   },
   "file_extension": ".py",
   "mimetype": "text/x-python",
   "name": "python",
   "nbconvert_exporter": "python",
   "pygments_lexer": "ipython3",
   "version": "3.7.6"
  }
 },
 "nbformat": 4,
 "nbformat_minor": 4
}
