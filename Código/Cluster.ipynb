{
 "cells": [
  {
   "cell_type": "markdown",
   "metadata": {},
   "source": [
    "# Clase Cluster"
   ]
  },
  {
   "cell_type": "code",
   "execution_count": 1,
   "metadata": {},
   "outputs": [],
   "source": [
    "%run Punto.ipynb\n",
    "%run Circunferencia.ipynb\n",
    "\n",
    "class Cluster():\n",
    "    \n",
    "    next_id = 0\n",
    "    \n",
    "    def __init__(self,circunferencia,puntos):\n",
    "        self.circunferencia = circunferencia\n",
    "        self.puntos = puntos\n",
    "        self.id = Cluster.next_id\n",
    "        Cluster.next_id += 1\n",
    "        \n",
    "    def __repr__(self):\n",
    "        return \"Cluster de radio \"+str(self.circunferencia.radio)+ \" y de centro \"+str(self.circunferencia.centro)\n",
    "        + \" y puntos \"+self.mostrar_puntos()\n",
    "    \n",
    "    def __gt__(self, cluster):\n",
    "        return self.id > cluster.id\n",
    "    \n",
    "    def mostrar_puntos(self):\n",
    "        t=\"\"\n",
    "        for p in self.puntos:\n",
    "            t+=str(p)\n",
    "        return t"
   ]
  }
 ],
 "metadata": {
  "kernelspec": {
   "display_name": "Python 3",
   "language": "python",
   "name": "python3"
  },
  "language_info": {
   "codemirror_mode": {
    "name": "ipython",
    "version": 3
   },
   "file_extension": ".py",
   "mimetype": "text/x-python",
   "name": "python",
   "nbconvert_exporter": "python",
   "pygments_lexer": "ipython3",
   "version": "3.7.6"
  }
 },
 "nbformat": 4,
 "nbformat_minor": 4
}
