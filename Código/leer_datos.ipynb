{
 "cells": [
  {
   "cell_type": "code",
   "execution_count": 10,
   "metadata": {},
   "outputs": [],
   "source": [
    "import pandas\n",
    "import numpy\n",
    "import math\n",
    "%run Punto.ipynb\n",
    "%run Circunferencia.ipynb"
   ]
  },
  {
   "cell_type": "markdown",
   "metadata": {},
   "source": [
    "## Clase de métodos para cargar los datos"
   ]
  },
  {
   "cell_type": "code",
   "execution_count": 11,
   "metadata": {},
   "outputs": [],
   "source": [
    "def string_to_int(lista):\n",
    "    for f in lista:\n",
    "        for l in f:\n",
    "            l = float(l)"
   ]
  },
  {
   "cell_type": "code",
   "execution_count": 12,
   "metadata": {},
   "outputs": [],
   "source": [
    "def crear_punto(lista):\n",
    "    x = round(lista[0], 1)\n",
    "    y = round(lista[1], 1)\n",
    "    p = Punto(x,y)\n",
    "    return p"
   ]
  },
  {
   "cell_type": "markdown",
   "metadata": {},
   "source": [
    "### Crear las circunferencias"
   ]
  },
  {
   "cell_type": "markdown",
   "metadata": {},
   "source": [
    "##### Reparte los centros de nuestras circunferencias de manera equitativa a lo largo del rango de x que ocupan todos los puntos a representar, facilitando así el trabajo del algoritmo inicialmente"
   ]
  },
  {
   "cell_type": "code",
   "execution_count": null,
   "metadata": {},
   "outputs": [],
   "source": [
    "def crear_circunferencias(puntos, k):\n",
    "    cs = []\n",
    "    x = []\n",
    "    \n",
    "    for p in puntos:\n",
    "        x.append(p.x)\n",
    "    \n",
    "    minx = min(x)\n",
    "    maxx = max(x)\n",
    "    \n",
    "    rx = maxx -minx\n",
    "    dx = round(rx/(k+1), 1) \n",
    "\n",
    "    \n",
    "    for i in range(0, k):\n",
    "        minx += dx\n",
    "        centro=Punto(round(minx,1),0)\n",
    "        r = numpy.random.randint(1,3)\n",
    "        c = Circunferencia(centro,r)\n",
    "        cs.append(c)\n",
    "        \n",
    "    return cs"
   ]
  },
  {
   "cell_type": "code",
   "execution_count": 14,
   "metadata": {},
   "outputs": [],
   "source": [
    "def lista_puntos(puntos):\n",
    "    res = []\n",
    "    for l in puntos:\n",
    "        res.append(crear_punto(l))\n",
    "    return res"
   ]
  },
  {
   "cell_type": "markdown",
   "metadata": {},
   "source": [
    "### Cargar datos"
   ]
  },
  {
   "cell_type": "markdown",
   "metadata": {},
   "source": [
    "##### El método leer datos es el que carga los datos, devolviendo una lista de puntos y otra de circunferencias de longitud según la k del parámetro de entrada"
   ]
  },
  {
   "cell_type": "code",
   "execution_count": 16,
   "metadata": {},
   "outputs": [],
   "source": [
    "def leer_datos(datos_p,k):\n",
    "    puntos = pandas.read_csv(datos_p, header=None, sep='_',\n",
    "                       names=['x', 'y'])\n",
    "    puntos = puntos.values.tolist()\n",
    "    puntos = lista_puntos(puntos)\n",
    "    circunferencias = crear_circunferencias(puntos, k)\n",
    "    return puntos, circunferencias"
   ]
  }
 ],
 "metadata": {
  "kernelspec": {
   "display_name": "Python 3",
   "language": "python",
   "name": "python3"
  },
  "language_info": {
   "codemirror_mode": {
    "name": "ipython",
    "version": 3
   },
   "file_extension": ".py",
   "mimetype": "text/x-python",
   "name": "python",
   "nbconvert_exporter": "python",
   "pygments_lexer": "ipython3",
   "version": "3.7.6"
  }
 },
 "nbformat": 4,
 "nbformat_minor": 4
}
