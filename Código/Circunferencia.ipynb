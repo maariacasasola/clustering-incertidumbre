{
 "cells": [
  {
   "cell_type": "markdown",
   "metadata": {},
   "source": [
    "# Clase Circunferencia"
   ]
  },
  {
   "cell_type": "code",
   "execution_count": 5,
   "metadata": {},
   "outputs": [],
   "source": [
    "%run Punto.ipynb\n",
    "\n",
    "class Circunferencia():\n",
    "    \n",
    "    def __init__(self,centro,radio):\n",
    "        self.centro = centro\n",
    "        self.radio = radio\n",
    "    \n",
    "    def __repr__(self):\n",
    "        return \"Circunferencia de radio \"+str(self.radio)+ \" y de centro [\"+str(self.centro.x)+\", \"+str(self.centro.y)+\"]\"\n",
    "    \n",
    "    @property\n",
    "    def radio(self):\n",
    "        return self.__radio\n",
    "    \n",
    "    @radio.setter\n",
    "    def radio(self,otroradio):\n",
    "        self.__radio = otroradio  \n",
    "    \n",
    "    def equals(self, circunferencia):\n",
    "        return self.radio == circunferencia.radio and self.centro.equals(circunferencia.centro)"
   ]
  }
 ],
 "metadata": {
  "kernelspec": {
   "display_name": "Python 3",
   "language": "python",
   "name": "python3"
  },
  "language_info": {
   "codemirror_mode": {
    "name": "ipython",
    "version": 3
   },
   "file_extension": ".py",
   "mimetype": "text/x-python",
   "name": "python",
   "nbconvert_exporter": "python",
   "pygments_lexer": "ipython3",
   "version": "3.7.6"
  }
 },
 "nbformat": 4,
 "nbformat_minor": 4
}
